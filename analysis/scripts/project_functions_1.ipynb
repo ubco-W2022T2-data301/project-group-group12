{
 "cells": [
  {
   "cell_type": "raw",
   "id": "ede026bd-4190-4fe0-a8d7-49310a8e42d0",
   "metadata": {},
   "source": [
    "#import \n",
    "import pandas as pd\n"
   ]
  },
  {
   "cell_type": "code",
   "execution_count": null,
   "id": "da7db2aa-e21f-4d91-8e8d-3d2fd24a0aef",
   "metadata": {},
   "outputs": [],
   "source": [
    "def load_and_process(url_or_path_to_csv_file):\n",
    "\n",
    "    # Method Chain 1 (Load data and deal with missing data)\n",
    "\n",
    "    df1 = (\n",
    "        pd.read_csv(url_or_path_to_csv_file)\n",
    "        .dropna()\n",
    "        .reset_index(drop=True)\n",
    ")\n",
    "\n"
   ]
  },
  {
   "cell_type": "code",
   "execution_count": null,
   "id": "e5a3023f-816c-4aae-81ed-dca2b801c4e3",
   "metadata": {},
   "outputs": [],
   "source": []
  }
 ],
 "metadata": {
  "kernelspec": {
   "display_name": "Python 3 (ipykernel)",
   "language": "python",
   "name": "python3"
  }
 },
 "nbformat": 4,
 "nbformat_minor": 5
}
