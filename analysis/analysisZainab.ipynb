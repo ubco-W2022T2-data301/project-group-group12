{
 "cells": [
  {
   "cell_type": "markdown",
   "id": "e87cc1e2-23f4-4d27-8796-5d02d2c9c6f6",
   "metadata": {},
   "source": [
    "# Zainab Mohammad"
   ]
  },
  {
   "cell_type": "markdown",
   "id": "e9112251-355a-455f-beb1-6454b98dd9a4",
   "metadata": {},
   "source": [
    "\n",
    "## Research question/interests\n",
    "\n",
    "\n",
    "**Do either an individual’s age or the amount of music they listen to have an effect on their mental health; which one has a stronger correlation with mental health problems?**\n",
    "\n",
    "**Of the four mental health conditions (anxiety, depression, OCD, and insomnia), which one is the most prevalent?** \n",
    "\n",
    "**How many hours of music do most individuals usually listen to in a day?**\n",
    "\n",
    "**Does the choice of primary streaming service of music have a correlation with mental health?**\n",
    "\n",
    "**What correlation do the academic factors of \"Year level\" and \"CGPA\" (cumulative GPA) have with depression and anxiety?** \n",
    "\n",
    "\n",
    "# Project Milestone 2\n",
    "\n",
    "\n",
    "I have a profound interest in how various lifestyle factors can influence an individual's health and general well-being. Thus, for this project, my group decided that observing a common lifestyle factor like music and attempting to learn how it may affect an individual's mental health would be a worthwhile idea. Particularly, I have chosen to concentrate on discovering if there is a correlation between an individual's age, the number of hours they spend listening to music every day, and their mental health.\n",
    "\n",
    "\n",
    "**Analysis Plan:**\n",
    "\n",
    "\n",
    "I plan on using the \"Age\" and \"Hours per day\" columns, as well as the four mental health columns, \"Anxiety\", \"Depression\", \"Insomnia\", and \"OCD\". Hence, I will create a new, processed table that only includes six columns, with the data corresponding to these six variables.\n",
    "\n",
    "\n",
    "Next, I plan to create an \"Hours per day in %\" column, by expressing the values in the \"Hours per day\" column as a percentage, using this calculation: (value/24) * 100.\n",
    "\n",
    "\n",
    "While I will be examining the effects of age and hours of music on each of the four mental health conditions, I will likely also produce visualizations depicting the effects on *overall mental health*. To examine mental health as a whole, I will add the values from the four mental health columns to create an additional \"Overall Mental Health\" column, which includes the sum of the four columns' values, out of 40. For simplicity, I'll likely further convert this new column such that it is out of 100- this will be done by mulitplying the values in the \"Overall Mental Health\" column by 2.5.\n",
    "\n",
    "\n",
    "Since I hope to examine the effects of amount of music listened to per day on mental health, and compare that to the effects of age on mental health, I will likley create ten reshaped datasets. The columns of each dataset will be as such:\n",
    "- \"Hours per day in %\", \"Anxiety\"\n",
    "- \"Hours per day in %\", \"Depression\"\n",
    "- \"Hours per day in %\", \"Insomnia\"\n",
    "- \"Hours per day in %\", \"OCD\"\n",
    "- \"Hours per day in %\", \"Overall Mental Health\"\n",
    "<br>\n",
    "\n",
    "- \"Age\", \"Anxiety\"\n",
    "- \"Age\", \"Depression\"\n",
    "- \"Age\", \"Insomnia\"\n",
    "- \"Age\", \"OCD\"\n",
    "- \"Age\", \"Overall Mental Health\"\n",
    "\n",
    "\n",
    "\n",
    "These datasets will be used to produce respective visualizations. The details are yet to be finalized; creating some visualizations first shall allow me to further narrow down my next steps.\n"
   ]
  },
  {
   "cell_type": "code",
   "execution_count": 16,
   "id": "06b2acab-fb55-4f7a-b955-34b442d141f1",
   "metadata": {},
   "outputs": [],
   "source": [
    "import pandas as pd\n",
    "import numpy as np\n",
    "import seaborn as sns\n",
    "import matplotlib.pyplot as plt\n",
    "\n",
    "# Loading the dataset\n",
    "\n",
    "dataset = pd.read_csv('../data/raw/music_therapy_and_mental_health_survey_results (1).csv') "
   ]
  },
  {
   "cell_type": "markdown",
   "id": "3f6c7e3d-7ab1-4aa4-92aa-3c36e9984316",
   "metadata": {},
   "source": [
    "# Project Milestone 3"
   ]
  },
  {
   "cell_type": "code",
   "execution_count": 17,
   "id": "121d1aae-af20-413c-95cb-b5cc419dfa2e",
   "metadata": {},
   "outputs": [
    {
     "data": {
      "text/plain": [
       "(736, 33)"
      ]
     },
     "execution_count": 17,
     "metadata": {},
     "output_type": "execute_result"
    }
   ],
   "source": [
    "# Before starting, let's count the total number of rows and columns to see how much data there is\n",
    "\n",
    "dataset.shape"
   ]
  },
  {
   "cell_type": "code",
   "execution_count": 18,
   "id": "b43bd6a0-89af-4e80-8253-3cdd9a85e7bb",
   "metadata": {},
   "outputs": [
    {
     "data": {
      "text/plain": [
       "array(['Timestamp', 'Age', 'Primary streaming service', 'Hours per day',\n",
       "       'While working', 'Instrumentalist', 'Composer', 'Fav genre',\n",
       "       'Exploratory', 'Foreign languages', 'BPM', 'Frequency [Classical]',\n",
       "       'Frequency [Country]', 'Frequency [EDM]', 'Frequency [Folk]',\n",
       "       'Frequency [Gospel]', 'Frequency [Hip hop]', 'Frequency [Jazz]',\n",
       "       'Frequency [K pop]', 'Frequency [Latin]', 'Frequency [Lofi]',\n",
       "       'Frequency [Metal]', 'Frequency [Pop]', 'Frequency [R&B]',\n",
       "       'Frequency [Rap]', 'Frequency [Rock]',\n",
       "       'Frequency [Video game music]', 'Anxiety', 'Depression',\n",
       "       'Insomnia', 'OCD', 'Music effects', 'Permissions'], dtype=object)"
      ]
     },
     "execution_count": 18,
     "metadata": {},
     "output_type": "execute_result"
    }
   ],
   "source": [
    "# I want to delete certain columns hence first I will print out column list, so I can copy-paste list into next command instead of manually typing out every column name\n",
    "\n",
    "dataset.columns.values"
   ]
  },
  {
   "cell_type": "code",
   "execution_count": 19,
   "id": "ffef055d-f817-46fc-82fa-50c4ffd509ea",
   "metadata": {},
   "outputs": [],
   "source": [
    "# Now, let's drop all columns from dataset except the six I will be working with (\"Age\", \"Hours per day\", and the four mental health columns, \"Anxiety\", \"Depression\", \"Insomnia\", and \"OCD\")\n",
    "# I'm naming the adjusted dataset as \"filtered\"\n",
    "\n",
    "filtered = dataset.drop(columns=['Timestamp', 'While working', 'Instrumentalist', 'Composer', 'Fav genre', 'Exploratory', 'Foreign languages', 'BPM', 'Frequency [Classical]', 'Frequency [Country]', 'Frequency [EDM]', 'Frequency [Folk]', 'Frequency [Gospel]', 'Frequency [Hip hop]', 'Frequency [Jazz]', 'Frequency [K pop]', 'Frequency [Latin]', 'Frequency [Lofi]', 'Frequency [Metal]', 'Frequency [Pop]', 'Frequency [R&B]', 'Frequency [Rap]', 'Frequency [Rock]', 'Frequency [Video game music]', 'Music effects', 'Permissions'])"
   ]
  },
  {
   "cell_type": "code",
   "execution_count": 20,
   "id": "5d0e7ff7-0985-41c5-bc1f-48d6af06e545",
   "metadata": {},
   "outputs": [
    {
     "data": {
      "text/plain": [
       "Age                          735\n",
       "Primary streaming service    735\n",
       "Hours per day                736\n",
       "Anxiety                      736\n",
       "Depression                   736\n",
       "Insomnia                     736\n",
       "OCD                          736\n",
       "dtype: int64"
      ]
     },
     "execution_count": 20,
     "metadata": {},
     "output_type": "execute_result"
    }
   ],
   "source": [
    "# Counting how many rows of complete data (non-missing/non-null) there are for each of the six columns in \"filtered\"\n",
    "\n",
    "filtered.count()"
   ]
  },
  {
   "cell_type": "code",
   "execution_count": 21,
   "id": "f021cc61-da70-4ba6-abe4-eb646e207197",
   "metadata": {},
   "outputs": [
    {
     "data": {
      "text/plain": [
       "Age                          1\n",
       "Primary streaming service    1\n",
       "Hours per day                0\n",
       "Anxiety                      0\n",
       "Depression                   0\n",
       "Insomnia                     0\n",
       "OCD                          0\n",
       "dtype: int64"
      ]
     },
     "execution_count": 21,
     "metadata": {},
     "output_type": "execute_result"
    }
   ],
   "source": [
    "# Counting how many rows of missing/null data there are for each of the six columns in \"filtered\" (this is just supportive to the last code) \n",
    "\n",
    "filtered.isnull().sum()"
   ]
  },
  {
   "cell_type": "code",
   "execution_count": 22,
   "id": "81293cb4-0648-4b2c-aff8-a4a6def5433f",
   "metadata": {},
   "outputs": [],
   "source": [
    "# I observed that the \"Age\" column had one missing/null value, so I am dropping that entire row from my \"filtered\" dataset\n",
    "# Naming the adjusted dataset as \"filterdrop\"\n",
    "\n",
    "filterdrop = filtered.dropna(subset=['Age', 'Primary streaming service'])"
   ]
  },
  {
   "cell_type": "code",
   "execution_count": 23,
   "id": "c119f0b2-9220-4d96-b28d-b14b98de1368",
   "metadata": {},
   "outputs": [
    {
     "name": "stdout",
     "output_type": "stream",
     "text": [
      "Age                          float64\n",
      "Primary streaming service     object\n",
      "Hours per day                float64\n",
      "Anxiety                      float64\n",
      "Depression                   float64\n",
      "Insomnia                     float64\n",
      "OCD                          float64\n",
      "dtype: object\n"
     ]
    }
   ],
   "source": [
    "# Checking the data types of each of the six columns in \"filterdrop\"\n",
    "print(filterdrop.dtypes)"
   ]
  },
  {
   "cell_type": "code",
   "execution_count": 24,
   "id": "5c4deb7f-63c2-4c08-a56d-dd722434b9b8",
   "metadata": {},
   "outputs": [
    {
     "data": {
      "text/plain": [
       "str"
      ]
     },
     "execution_count": 24,
     "metadata": {},
     "output_type": "execute_result"
    }
   ],
   "source": [
    "# Specifically checking the data type of \"Hours per day\" column\n",
    "\n",
    "type(\"Hours per day\")"
   ]
  },
  {
   "cell_type": "code",
   "execution_count": 25,
   "id": "81bb1ad0-4fd3-4a17-9288-8c98c7247c38",
   "metadata": {},
   "outputs": [
    {
     "data": {
      "text/plain": [
       "Age                          float64\n",
       "Primary streaming service     object\n",
       "Hours per day                float64\n",
       "Anxiety                      float64\n",
       "Depression                   float64\n",
       "Insomnia                     float64\n",
       "OCD                          float64\n",
       "dtype: object"
      ]
     },
     "execution_count": 25,
     "metadata": {},
     "output_type": "execute_result"
    }
   ],
   "source": [
    "# I need all my columns to be float data types; all columns except \"Hours per day\" are, so I'll convert this column to float type next, and then check the dataset's columns' data types again to ensure successful conversion: \n",
    "\n",
    "filterdrop_copy = filterdrop.copy()\n",
    "filterdrop_copy.loc[:, 'Hours per day'] = filterdrop_copy['Hours per day'].astype(float)\n",
    "filterdrop.dtypes"
   ]
  },
  {
   "cell_type": "code",
   "execution_count": 26,
   "id": "22c47ab8-03f2-4b07-92ad-30ebce1cd11b",
   "metadata": {},
   "outputs": [],
   "source": [
    "# Next, I want to express the \"Hours per day\" column as a percentage, so I'll make a new column as such:\n",
    "\n",
    "filterdrop_copy.loc[:, 'Hours_per_day_in_percentage'] = filterdrop_copy['Hours per day'] / 24 * 100"
   ]
  },
  {
   "cell_type": "code",
   "execution_count": 27,
   "id": "239b5138-a995-457f-9bf3-056c9117049e",
   "metadata": {},
   "outputs": [
    {
     "data": {
      "text/html": [
       "<div>\n",
       "<style scoped>\n",
       "    .dataframe tbody tr th:only-of-type {\n",
       "        vertical-align: middle;\n",
       "    }\n",
       "\n",
       "    .dataframe tbody tr th {\n",
       "        vertical-align: top;\n",
       "    }\n",
       "\n",
       "    .dataframe thead th {\n",
       "        text-align: right;\n",
       "    }\n",
       "</style>\n",
       "<table border=\"1\" class=\"dataframe\">\n",
       "  <thead>\n",
       "    <tr style=\"text-align: right;\">\n",
       "      <th></th>\n",
       "      <th>count</th>\n",
       "      <th>mean</th>\n",
       "      <th>std</th>\n",
       "      <th>min</th>\n",
       "      <th>25%</th>\n",
       "      <th>50%</th>\n",
       "      <th>75%</th>\n",
       "      <th>max</th>\n",
       "    </tr>\n",
       "  </thead>\n",
       "  <tbody>\n",
       "    <tr>\n",
       "      <th>Age</th>\n",
       "      <td>734.0</td>\n",
       "      <td>25.212534</td>\n",
       "      <td>12.062188</td>\n",
       "      <td>10.0</td>\n",
       "      <td>18.000000</td>\n",
       "      <td>21.0</td>\n",
       "      <td>28.000000</td>\n",
       "      <td>89.0</td>\n",
       "    </tr>\n",
       "    <tr>\n",
       "      <th>Hours per day</th>\n",
       "      <td>734.0</td>\n",
       "      <td>3.571594</td>\n",
       "      <td>3.031795</td>\n",
       "      <td>0.0</td>\n",
       "      <td>2.000000</td>\n",
       "      <td>3.0</td>\n",
       "      <td>5.000000</td>\n",
       "      <td>24.0</td>\n",
       "    </tr>\n",
       "    <tr>\n",
       "      <th>Anxiety</th>\n",
       "      <td>734.0</td>\n",
       "      <td>5.829019</td>\n",
       "      <td>2.791967</td>\n",
       "      <td>0.0</td>\n",
       "      <td>4.000000</td>\n",
       "      <td>6.0</td>\n",
       "      <td>8.000000</td>\n",
       "      <td>10.0</td>\n",
       "    </tr>\n",
       "    <tr>\n",
       "      <th>Depression</th>\n",
       "      <td>734.0</td>\n",
       "      <td>4.794278</td>\n",
       "      <td>3.029963</td>\n",
       "      <td>0.0</td>\n",
       "      <td>2.000000</td>\n",
       "      <td>5.0</td>\n",
       "      <td>7.000000</td>\n",
       "      <td>10.0</td>\n",
       "    </tr>\n",
       "    <tr>\n",
       "      <th>Insomnia</th>\n",
       "      <td>734.0</td>\n",
       "      <td>3.733651</td>\n",
       "      <td>3.086117</td>\n",
       "      <td>0.0</td>\n",
       "      <td>1.000000</td>\n",
       "      <td>3.0</td>\n",
       "      <td>6.000000</td>\n",
       "      <td>10.0</td>\n",
       "    </tr>\n",
       "    <tr>\n",
       "      <th>OCD</th>\n",
       "      <td>734.0</td>\n",
       "      <td>2.625341</td>\n",
       "      <td>2.836728</td>\n",
       "      <td>0.0</td>\n",
       "      <td>0.000000</td>\n",
       "      <td>2.0</td>\n",
       "      <td>4.000000</td>\n",
       "      <td>10.0</td>\n",
       "    </tr>\n",
       "    <tr>\n",
       "      <th>Hours_per_day_in_percentage</th>\n",
       "      <td>734.0</td>\n",
       "      <td>14.881642</td>\n",
       "      <td>12.632479</td>\n",
       "      <td>0.0</td>\n",
       "      <td>8.333333</td>\n",
       "      <td>12.5</td>\n",
       "      <td>20.833333</td>\n",
       "      <td>100.0</td>\n",
       "    </tr>\n",
       "  </tbody>\n",
       "</table>\n",
       "</div>"
      ],
      "text/plain": [
       "                             count       mean        std   min        25%  \\\n",
       "Age                          734.0  25.212534  12.062188  10.0  18.000000   \n",
       "Hours per day                734.0   3.571594   3.031795   0.0   2.000000   \n",
       "Anxiety                      734.0   5.829019   2.791967   0.0   4.000000   \n",
       "Depression                   734.0   4.794278   3.029963   0.0   2.000000   \n",
       "Insomnia                     734.0   3.733651   3.086117   0.0   1.000000   \n",
       "OCD                          734.0   2.625341   2.836728   0.0   0.000000   \n",
       "Hours_per_day_in_percentage  734.0  14.881642  12.632479   0.0   8.333333   \n",
       "\n",
       "                              50%        75%    max  \n",
       "Age                          21.0  28.000000   89.0  \n",
       "Hours per day                 3.0   5.000000   24.0  \n",
       "Anxiety                       6.0   8.000000   10.0  \n",
       "Depression                    5.0   7.000000   10.0  \n",
       "Insomnia                      3.0   6.000000   10.0  \n",
       "OCD                           2.0   4.000000   10.0  \n",
       "Hours_per_day_in_percentage  12.5  20.833333  100.0  "
      ]
     },
     "execution_count": 27,
     "metadata": {},
     "output_type": "execute_result"
    }
   ],
   "source": [
    "# Just out of curiousity, I want to check the various statistics of the \"filterdrop\" dataset\n",
    "\n",
    "filterdrop_copy.describe(include=np.number).T"
   ]
  },
  {
   "cell_type": "code",
   "execution_count": 28,
   "id": "2b043e81-dc04-4f11-abd0-203cabf36b33",
   "metadata": {},
   "outputs": [],
   "source": [
    "# Next, I want to express the four mental health columns, \"Anxiety\", \"Depression\", \"Insomnia\", and \"OCD\", as an overall mental health column, and give its values as a number out of 100:\n",
    "\n",
    "filterdrop_copy.loc[:, 'Overall_Mental_Health_out_of_100'] = (filterdrop['Anxiety'] + filterdrop['Depression'] + filterdrop['Insomnia'] + filterdrop['OCD']) * 2.5"
   ]
  },
  {
   "cell_type": "code",
   "execution_count": 29,
   "id": "17d20903-2fa2-4e06-b8df-90b2e68bdd22",
   "metadata": {},
   "outputs": [],
   "source": [
    "# I will rename all the columns whose names are multiple words, such that the column name becomes just one word- this makes everything more efficient and reduces errors:\n",
    "\n",
    "filterdrop_copy = filterdrop_copy.rename(columns={'Primary streaming service': 'Primary_streaming_service'})\n",
    "filterdrop_copy = filterdrop_copy.rename(columns={'Hours per day': 'Hours_per_day'}) "
   ]
  },
  {
   "cell_type": "code",
   "execution_count": 33,
   "id": "b780792b-928c-4d34-8af0-630a206a3b50",
   "metadata": {},
   "outputs": [],
   "source": [
    "# Now, I  can start generating multiple tables to aid with visualizations \n",
    "\n",
    "df1 = datasetchain2[[\"Hours_per_day_percentage\", \"Anxiety\"]]"
   ]
  },
  {
   "cell_type": "code",
   "execution_count": null,
   "id": "8261985b-6c4c-48a8-a44e-4347658b6c0b",
   "metadata": {},
   "outputs": [],
   "source": [
    "df2 = datasetchain2[[\"Hours_per_day_percentage\", \"Depression\"]]"
   ]
  },
  {
   "cell_type": "code",
   "execution_count": null,
   "id": "5220abf0-8ca4-4917-b4d0-fe23b9f692dc",
   "metadata": {},
   "outputs": [],
   "source": [
    "df3 = datasetchain2[[\"Hours_per_day_percentage\", \"Insomnia\"]]"
   ]
  },
  {
   "cell_type": "code",
   "execution_count": null,
   "id": "d5bf8485-1bc0-4e3f-886c-9c8e435fc721",
   "metadata": {},
   "outputs": [],
   "source": [
    "df4 = datasetchain2[[\"Hours_per_day_percentage\", \"OCD\"]] "
   ]
  },
  {
   "cell_type": "code",
   "execution_count": null,
   "id": "dd14ad59-58c4-48a5-b8a7-cb7b19c4e258",
   "metadata": {},
   "outputs": [],
   "source": [
    "df5 = datasetchain2[[\"Hours_per_day_percentage\", \"Overall_Mental_Health_out_of_100\"]]"
   ]
  },
  {
   "cell_type": "code",
   "execution_count": null,
   "id": "c667b94e-d4a4-471c-8f1d-308cadaa2933",
   "metadata": {},
   "outputs": [],
   "source": [
    "df6 = datasetchain2[[\"Age\", \"Anxiety\"]]"
   ]
  },
  {
   "cell_type": "code",
   "execution_count": null,
   "id": "0fa49a9b-17ad-44f3-ad7b-df013af62fb0",
   "metadata": {},
   "outputs": [],
   "source": [
    "df7 = datasetchain2[[\"Age\", \"Depression\"]]"
   ]
  },
  {
   "cell_type": "code",
   "execution_count": null,
   "id": "d61904b1-340d-48a0-95a0-4153b6400707",
   "metadata": {},
   "outputs": [],
   "source": [
    "df8 = datasetchain2[[\"Age\", \"Insomnia\"]]"
   ]
  },
  {
   "cell_type": "code",
   "execution_count": null,
   "id": "7377c274-d57e-409d-bd8d-e913a9da31f3",
   "metadata": {},
   "outputs": [],
   "source": [
    "df9 = datasetchain2[[\"Age\", \"OCD\"]]"
   ]
  },
  {
   "cell_type": "code",
   "execution_count": null,
   "id": "1db7c18f-e6fe-43cd-b260-302a9f0ef774",
   "metadata": {},
   "outputs": [],
   "source": [
    "df10 = datasetchain2[[\"Age\", \"Overall_Mental_Health_out_of_100\"]]"
   ]
  },
  {
   "cell_type": "code",
   "execution_count": null,
   "id": "441328ca-478d-4bbe-97b4-153aebb6745e",
   "metadata": {},
   "outputs": [],
   "source": [
    "# Now that all 10 graphs are made, let's make visualizations from graph 5 and graph 10, to visualize the correlation between their respective columns\n",
    "\n",
    "sns.set_theme(style=\"ticks\")\n",
    "plot3=sns.lineplot(data=df5, x=\"Hours_per_day_percentage\", y=\"Overall_Mental_Health_out_of_100\")\n",
    "plot3.set(xlabel=\"Percentage of day spent listening to music\", ylabel=\"Overall Mental Health Problems (in %)\", title=\"Correlation of Music Listening and Overall Mental Health Problems\") \n",
    "plot3.set_xlim(0, None)\n",
    "plot3.set_ylim(0, 100)"
   ]
  },
  {
   "cell_type": "code",
   "execution_count": null,
   "id": "43e77c7e-8f8c-43af-9c94-cb92cddb695f",
   "metadata": {},
   "outputs": [],
   "source": [
    "sns.set_theme(style=\"ticks\")\n",
    "plot4=sns.lineplot(data=df10, x=\"Age\", y=\"Overall_Mental_Health_out_of_100\")\n",
    "plot4.set(xlabel=\"Age of Participants\", ylabel=\"Overall Mental Health Problems (in %)\", title=\"Correlation of Age and Overall Mental Health Problems\") \n",
    "plot4.set_xlim(0, None)\n",
    "plot4.set_ylim(0, 100)"
   ]
  },
  {
   "cell_type": "markdown",
   "id": "dd1de4ad-01e5-4464-ad85-ffa1cf19b5f3",
   "metadata": {},
   "source": [
    "My research questions revolve around trying to learn if there is correlation between an individual's age and their mental health, and between the amount of music they listen to and their mental health; if so, I am curious which factor has a stronger correlation with mental health?\n",
    "\n",
    "Plots 3 and 4 both utilized lineplots to roughly visualize how either amount of music or age correlate to overall mental health problems. Plot 3 shows that listening to more music and increased mental health problems had a correlation, although the highest amount of music listened to led to a decrease in mental health problems. Overall, this graph shows many ups and downs, so more complex visualizations will likely be needed to better understand the correlation.\n",
    "Plot 4 showed an overall decline in overall mental health problems at older ages, suggesting a possible negative correlation between the two variables. However, a flaw comes from the popular phrase that \"correlation does not imply causation\"; is it really the increase in age that leads to reduced mental health problems? Overall, applying more complex visualizations to this graph to better illustrate the negative correlation may be helpful, and of course realistically no conclusions can be made just from this dataset; future studies would be needed to observe the true cause(s) of any correlation observed.\n",
    "\n",
    "Perhaps for the next steps, I will use a jointplot for better illustrations. \n",
    "Also, I now realize that perhaps analyzing mental health as a whole using the \"Overall Mental Health\" column may not be very transparent. Thus, for my next steps I am planning to visualize each mental health column (Anxiety, Depression, Insomnia, and OCD) with Age and with Amount of music listened to, to figure out how those correlate, and then I will display those via a Facet plot to better see which variables have the strongest correlations. As for creation of new columns or more data aggregation, I don't feel that is further needed at this point. \n",
    "\n",
    "Plots 1 and 2 were used to visualize the spread of the age and amount of music listened to by the participants of the survey, and they indicated that the highest prevalence was of individuals aged just less than 20, and most individuals listened to music for about 10% of their day. I am now considering making graphs to show a relationship between these two variables as well, to see if there is any correlation between these two, as that could be interesting to know as well. \n",
    "\n",
    "### Revised Research Questions: \n",
    "\n",
    "**Do either an individual’s age or the amount of music they listen to have an effect on their mental health; which one has a stronger correlation with mental health problems?**\n"
   ]
  },
  {
   "cell_type": "markdown",
   "id": "2253f58a-de7a-481d-967f-3f8f7f3118f6",
   "metadata": {},
   "source": [
    "# **Project Milestone 4**"
   ]
  },
  {
   "cell_type": "markdown",
   "id": "80c1e361-917f-49a2-85a3-7efa453a07bc",
   "metadata": {},
   "source": [
    "## Task 1: Analysis Pipeline"
   ]
  },
  {
   "cell_type": "code",
   "execution_count": 31,
   "id": "2aae74ee-937b-43e0-997a-bb8119d860ee",
   "metadata": {},
   "outputs": [
    {
     "name": "stdout",
     "output_type": "stream",
     "text": [
      "The file type of this file is: application/vnd.ms-excel\n"
     ]
    }
   ],
   "source": [
    "# Let's check the file type of the dataset\n",
    "import os\n",
    "import mimetypes as mmt\n",
    "\n",
    "filename = \"music_therapy_and_mental_health_survey_results (1).csv\"\n",
    "filetype = mmt.guess_type(filename)[0]\n",
    "\n",
    "if filetype is not None:\n",
    "    print(f\"The file type of this file is: {filetype}\")\n",
    "else:\n",
    "    print(f\"Was not able to successfully determine the file type of '{filename}'\")"
   ]
  },
  {
   "cell_type": "code",
   "execution_count": null,
   "id": "688da044-a313-4a87-85ab-9d6df2c35879",
   "metadata": {},
   "outputs": [],
   "source": [
    "# Hmm, all columns are floats except \"Primary streaming service\" which is an object (string), so let's convert all strings to numbers using a function and make a new column where this column's values are expressed as numbers:\n",
    "# Here's the function \n",
    "#def Primarystreamingservice(x):\n"
   ]
  },
  {
   "cell_type": "code",
   "execution_count": null,
   "id": "12cbe9af-a045-4b92-a9e3-ed5b9d780f97",
   "metadata": {},
   "outputs": [],
   "source": [
    "# Mental health rankings are subjective, so I will not delete any outliers here. Age values look appropriate. The remaining two columns are alright too; for \"hours per day in %\", 100% is quite high but perhaps this individual has music playing 24/7, even during sleep? We can keep it just to see if any interesting trends are observed"
   ]
  },
  {
   "cell_type": "markdown",
   "id": "0a66e396-ce5d-408d-a157-a8cf134ec378",
   "metadata": {},
   "source": [
    "## Task 2: Method Chaining"
   ]
  },
  {
   "cell_type": "code",
   "execution_count": 32,
   "id": "a5170218-2f09-4b67-a3d4-8ff000e5077f",
   "metadata": {},
   "outputs": [
    {
     "data": {
      "text/html": [
       "<div>\n",
       "<style scoped>\n",
       "    .dataframe tbody tr th:only-of-type {\n",
       "        vertical-align: middle;\n",
       "    }\n",
       "\n",
       "    .dataframe tbody tr th {\n",
       "        vertical-align: top;\n",
       "    }\n",
       "\n",
       "    .dataframe thead th {\n",
       "        text-align: right;\n",
       "    }\n",
       "</style>\n",
       "<table border=\"1\" class=\"dataframe\">\n",
       "  <thead>\n",
       "    <tr style=\"text-align: right;\">\n",
       "      <th></th>\n",
       "      <th>Age</th>\n",
       "      <th>Primary streaming service</th>\n",
       "      <th>Primary_streaming_service_in_numbers</th>\n",
       "      <th>Hours_per_day_percentage</th>\n",
       "      <th>Anxiety</th>\n",
       "      <th>Depression</th>\n",
       "      <th>Insomnia</th>\n",
       "      <th>OCD</th>\n",
       "      <th>Overall_Mental_Health_out_of_100</th>\n",
       "    </tr>\n",
       "  </thead>\n",
       "  <tbody>\n",
       "    <tr>\n",
       "      <th>0</th>\n",
       "      <td>18.0</td>\n",
       "      <td>Spotify</td>\n",
       "      <td>1</td>\n",
       "      <td>12.500000</td>\n",
       "      <td>3.0</td>\n",
       "      <td>0.0</td>\n",
       "      <td>1.0</td>\n",
       "      <td>0.0</td>\n",
       "      <td>10.0</td>\n",
       "    </tr>\n",
       "    <tr>\n",
       "      <th>1</th>\n",
       "      <td>63.0</td>\n",
       "      <td>Pandora</td>\n",
       "      <td>2</td>\n",
       "      <td>6.250000</td>\n",
       "      <td>7.0</td>\n",
       "      <td>2.0</td>\n",
       "      <td>2.0</td>\n",
       "      <td>1.0</td>\n",
       "      <td>30.0</td>\n",
       "    </tr>\n",
       "    <tr>\n",
       "      <th>2</th>\n",
       "      <td>18.0</td>\n",
       "      <td>Spotify</td>\n",
       "      <td>1</td>\n",
       "      <td>16.666667</td>\n",
       "      <td>7.0</td>\n",
       "      <td>7.0</td>\n",
       "      <td>10.0</td>\n",
       "      <td>2.0</td>\n",
       "      <td>65.0</td>\n",
       "    </tr>\n",
       "    <tr>\n",
       "      <th>3</th>\n",
       "      <td>61.0</td>\n",
       "      <td>YouTube Music</td>\n",
       "      <td>3</td>\n",
       "      <td>10.416667</td>\n",
       "      <td>9.0</td>\n",
       "      <td>7.0</td>\n",
       "      <td>3.0</td>\n",
       "      <td>3.0</td>\n",
       "      <td>55.0</td>\n",
       "    </tr>\n",
       "    <tr>\n",
       "      <th>4</th>\n",
       "      <td>18.0</td>\n",
       "      <td>Spotify</td>\n",
       "      <td>1</td>\n",
       "      <td>16.666667</td>\n",
       "      <td>7.0</td>\n",
       "      <td>2.0</td>\n",
       "      <td>5.0</td>\n",
       "      <td>9.0</td>\n",
       "      <td>57.5</td>\n",
       "    </tr>\n",
       "    <tr>\n",
       "      <th>...</th>\n",
       "      <td>...</td>\n",
       "      <td>...</td>\n",
       "      <td>...</td>\n",
       "      <td>...</td>\n",
       "      <td>...</td>\n",
       "      <td>...</td>\n",
       "      <td>...</td>\n",
       "      <td>...</td>\n",
       "      <td>...</td>\n",
       "    </tr>\n",
       "    <tr>\n",
       "      <th>731</th>\n",
       "      <td>17.0</td>\n",
       "      <td>Spotify</td>\n",
       "      <td>1</td>\n",
       "      <td>8.333333</td>\n",
       "      <td>7.0</td>\n",
       "      <td>6.0</td>\n",
       "      <td>0.0</td>\n",
       "      <td>9.0</td>\n",
       "      <td>55.0</td>\n",
       "    </tr>\n",
       "    <tr>\n",
       "      <th>732</th>\n",
       "      <td>18.0</td>\n",
       "      <td>Spotify</td>\n",
       "      <td>1</td>\n",
       "      <td>4.166667</td>\n",
       "      <td>3.0</td>\n",
       "      <td>2.0</td>\n",
       "      <td>2.0</td>\n",
       "      <td>5.0</td>\n",
       "      <td>30.0</td>\n",
       "    </tr>\n",
       "    <tr>\n",
       "      <th>733</th>\n",
       "      <td>19.0</td>\n",
       "      <td>Other streaming service</td>\n",
       "      <td>6</td>\n",
       "      <td>25.000000</td>\n",
       "      <td>2.0</td>\n",
       "      <td>2.0</td>\n",
       "      <td>2.0</td>\n",
       "      <td>2.0</td>\n",
       "      <td>20.0</td>\n",
       "    </tr>\n",
       "    <tr>\n",
       "      <th>734</th>\n",
       "      <td>19.0</td>\n",
       "      <td>Spotify</td>\n",
       "      <td>1</td>\n",
       "      <td>20.833333</td>\n",
       "      <td>2.0</td>\n",
       "      <td>3.0</td>\n",
       "      <td>2.0</td>\n",
       "      <td>1.0</td>\n",
       "      <td>20.0</td>\n",
       "    </tr>\n",
       "    <tr>\n",
       "      <th>735</th>\n",
       "      <td>29.0</td>\n",
       "      <td>YouTube Music</td>\n",
       "      <td>3</td>\n",
       "      <td>8.333333</td>\n",
       "      <td>2.0</td>\n",
       "      <td>2.0</td>\n",
       "      <td>2.0</td>\n",
       "      <td>5.0</td>\n",
       "      <td>27.5</td>\n",
       "    </tr>\n",
       "  </tbody>\n",
       "</table>\n",
       "<p>734 rows × 9 columns</p>\n",
       "</div>"
      ],
      "text/plain": [
       "      Age Primary streaming service Primary_streaming_service_in_numbers  \\\n",
       "0    18.0                   Spotify                                    1   \n",
       "1    63.0                   Pandora                                    2   \n",
       "2    18.0                   Spotify                                    1   \n",
       "3    61.0             YouTube Music                                    3   \n",
       "4    18.0                   Spotify                                    1   \n",
       "..    ...                       ...                                  ...   \n",
       "731  17.0                   Spotify                                    1   \n",
       "732  18.0                   Spotify                                    1   \n",
       "733  19.0   Other streaming service                                    6   \n",
       "734  19.0                   Spotify                                    1   \n",
       "735  29.0             YouTube Music                                    3   \n",
       "\n",
       "     Hours_per_day_percentage  Anxiety  Depression  Insomnia  OCD  \\\n",
       "0                   12.500000      3.0         0.0       1.0  0.0   \n",
       "1                    6.250000      7.0         2.0       2.0  1.0   \n",
       "2                   16.666667      7.0         7.0      10.0  2.0   \n",
       "3                   10.416667      9.0         7.0       3.0  3.0   \n",
       "4                   16.666667      7.0         2.0       5.0  9.0   \n",
       "..                        ...      ...         ...       ...  ...   \n",
       "731                  8.333333      7.0         6.0       0.0  9.0   \n",
       "732                  4.166667      3.0         2.0       2.0  5.0   \n",
       "733                 25.000000      2.0         2.0       2.0  2.0   \n",
       "734                 20.833333      2.0         3.0       2.0  1.0   \n",
       "735                  8.333333      2.0         2.0       2.0  5.0   \n",
       "\n",
       "     Overall_Mental_Health_out_of_100  \n",
       "0                                10.0  \n",
       "1                                30.0  \n",
       "2                                65.0  \n",
       "3                                55.0  \n",
       "4                                57.5  \n",
       "..                                ...  \n",
       "731                              55.0  \n",
       "732                              30.0  \n",
       "733                              20.0  \n",
       "734                              20.0  \n",
       "735                              27.5  \n",
       "\n",
       "[734 rows x 9 columns]"
      ]
     },
     "execution_count": 32,
     "metadata": {},
     "output_type": "execute_result"
    }
   ],
   "source": [
    "# Step 3:\n",
    "\n",
    "def Primarystreamingservice(x):\n",
    "    '''\n",
    "    This function analyzes the given primary streaming service type, and assigns it a numerical value accordingly (numbers are easier to work with).\n",
    "    '''\n",
    "    if x['Primary streaming service']==\"Spotify\":\n",
    "        return \"1\"\n",
    "    elif x['Primary streaming service']==\"Pandora\": \n",
    "        return \"2\"  \n",
    "    elif x['Primary streaming service']==\"YouTube Music\":\n",
    "        return \"3\"\n",
    "    elif x['Primary streaming service']==\"Apple Music\": \n",
    "        return \"4\"  \n",
    "    elif x['Primary streaming service']==\"I do not use a streaming service.\":\n",
    "        return \"5\"\n",
    "    else: \n",
    "        return \"6\"  \n",
    "\n",
    "\n",
    "import scripts\n",
    "from scripts import project_functions_Zainab as pt \n",
    "\n",
    "datasetchain2 = pt.load_and_process('../data/raw/music_therapy_and_mental_health_survey_results (1).csv')\n",
    "datasetchain2"
   ]
  },
  {
   "cell_type": "code",
   "execution_count": null,
   "id": "5c81d8dc-d12d-4732-aa24-40c5d561b0e6",
   "metadata": {},
   "outputs": [],
   "source": [
    "datasetchain2.to_csv('../data/processed/analysisZainabdataset1.csv', index=False)"
   ]
  },
  {
   "cell_type": "markdown",
   "id": "31ab412b-de86-475b-9d52-f2efb268bd6c",
   "metadata": {},
   "source": [
    "## Task 3: Visualizations & Analysis"
   ]
  },
  {
   "cell_type": "markdown",
   "id": "667ec8fe-1cc2-401c-858a-f6f1a3ee5dc7",
   "metadata": {},
   "source": [
    "Let's make a more complex visualization to compare hours spent listening to music per day and overall mental health. I will use a jointplot: "
   ]
  },
  {
   "cell_type": "code",
   "execution_count": 34,
   "id": "65b79820-5c56-4edf-ac12-ef2eb6844f71",
   "metadata": {},
   "outputs": [
    {
     "ename": "NameError",
     "evalue": "name 'df5' is not defined",
     "output_type": "error",
     "traceback": [
      "\u001b[1;31m---------------------------------------------------------------------------\u001b[0m",
      "\u001b[1;31mNameError\u001b[0m                                 Traceback (most recent call last)",
      "Cell \u001b[1;32mIn[34], line 3\u001b[0m\n\u001b[0;32m      1\u001b[0m fig, axs \u001b[38;5;241m=\u001b[39m plt\u001b[38;5;241m.\u001b[39msubplots(ncols\u001b[38;5;241m=\u001b[39m\u001b[38;5;241m5\u001b[39m, figsize\u001b[38;5;241m=\u001b[39m(\u001b[38;5;241m20\u001b[39m, \u001b[38;5;241m4\u001b[39m))\n\u001b[1;32m----> 3\u001b[0m sns\u001b[38;5;241m.\u001b[39mhistplot(data\u001b[38;5;241m=\u001b[39m\u001b[43mdf5\u001b[49m, x\u001b[38;5;241m=\u001b[39m\u001b[38;5;124m\"\u001b[39m\u001b[38;5;124mHours_per_day_percentage\u001b[39m\u001b[38;5;124m\"\u001b[39m, y\u001b[38;5;241m=\u001b[39m\u001b[38;5;124m\"\u001b[39m\u001b[38;5;124mOverall_Mental_Health_out_of_100\u001b[39m\u001b[38;5;124m\"\u001b[39m, kde\u001b[38;5;241m=\u001b[39m\u001b[38;5;28;01mTrue\u001b[39;00m, ax\u001b[38;5;241m=\u001b[39maxs[\u001b[38;5;241m0\u001b[39m])\n\u001b[0;32m      4\u001b[0m axs[\u001b[38;5;241m0\u001b[39m]\u001b[38;5;241m.\u001b[39mset_xlabel(\u001b[38;5;124m'\u001b[39m\u001b[38;5;124mPercentage of day spent listening to music\u001b[39m\u001b[38;5;124m'\u001b[39m)\n\u001b[0;32m      5\u001b[0m axs[\u001b[38;5;241m0\u001b[39m]\u001b[38;5;241m.\u001b[39mset_ylabel(\u001b[38;5;124m'\u001b[39m\u001b[38;5;124mOverall Mental Health Problems (in \u001b[39m\u001b[38;5;124m%\u001b[39m\u001b[38;5;124m)\u001b[39m\u001b[38;5;124m'\u001b[39m)\n",
      "\u001b[1;31mNameError\u001b[0m: name 'df5' is not defined"
     ]
    },
    {
     "data": {
      "image/png": "[encoded data removed]",
      "text/plain": [
       "<Figure size 2000x400 with 5 Axes>"
      ]
     },
     "metadata": {},
     "output_type": "display_data"
    }
   ],
   "source": [
    "fig, axs = plt.subplots(ncols=5, figsize=(20, 4))\n",
    "\n",
    "sns.histplot(data=df5, x=\"Hours_per_day_percentage\", y=\"Overall_Mental_Health_out_of_100\", kde=True, ax=axs[0])\n",
    "axs[0].set_xlabel('Percentage of day spent listening to music')\n",
    "axs[0].set_ylabel('Overall Mental Health Problems (in %)')\n",
    "axs[0].set_title('Correlation of Music Listening and Overall Mental Health')\n",
    "\n",
    "sns.histplot(data=df1, x=\"Hours_per_day_percentage\", y=\"Anxiety\", kde=True, color='crimson', ax=axs[1])\n",
    "axs[1].set_xlabel('Percentage of day spent listening to music')\n",
    "axs[1].set_ylabel('Anxiety in Participants (out of 10)')\n",
    "axs[1].set_title('Correlation of Music Listening and Anxiety')\n",
    "\n",
    "sns.histplot(data=df2, x=\"Hours_per_day_percentage\", y=\"Depression\", kde=True, color='crimson', ax=axs[2])\n",
    "axs[2].set_xlabel('Percentage of day spent listening to music')\n",
    "axs[2].set_ylabel('Depression in Participants (out of 10)')\n",
    "axs[2].set_title('Correlation of Music Listening and Depression')\n",
    "\n",
    "sns.histplot(data=df3, x=\"Hours_per_day_percentage\", y=\"Insomnia\", kde=True, color='crimson', ax=axs[3])\n",
    "axs[3].set_xlabel('Percentage of day spent listening to music')\n",
    "axs[3].set_ylabel('Insomnia in Participants (out of 10)')\n",
    "axs[3].set_title('Correlation of Music Listening and Insomnia')\n",
    "\n",
    "sns.histplot(data=df4, x=\"Hours_per_day_percentage\", y=\"OCD\", kde=True, color='crimson', ax=axs[4])\n",
    "axs[4].set_xlabel('Percentage of day spent listening to music')\n",
    "axs[4].set_ylabel('OCD in Participants (out of 10)')\n",
    "axs[4].set_title('Correlation of Music Listening and OCD')\n",
    "\n",
    "fig.tight_layout()\n",
    "\n",
    "plt.show()\n"
   ]
  },
  {
   "cell_type": "code",
   "execution_count": null,
   "id": "7085290c-dda6-4ece-bfb9-dbb2b917bc43",
   "metadata": {},
   "outputs": [],
   "source": [
    "import matplotlib.pyplot as plt\n",
    "\n",
    "fig, axs2 = plt.subplots(ncols=5, figsize=(20, 4))\n",
    "\n",
    "# Plot the first jointplot on the first subplot\n",
    "sns.histplot(data=df10, x=\"Age\", y=\"Overall_Mental_Health_out_of_100\", kde=True, ax=axs2[0])\n",
    "axs2[0].set_xlabel('Age of Participants (in Years)')\n",
    "axs2[0].set_ylabel('Overall Mental Health Problems (in %)')\n",
    "axs2[0].set_title('Correlation of Music Listening and Overall Mental Health')\n",
    "\n",
    "sns.histplot(data=df6, x=\"Age\", y=\"Anxiety\", kde=True, color='seagreen', ax=axs2[1])\n",
    "axs2[1].set_xlabel('Age of Participants (in Years)')\n",
    "axs2[1].set_ylabel('Anxiety in Participants (out of 10)')\n",
    "axs2[1].set_title('Correlation of Age and Anxiety')\n",
    "\n",
    "sns.histplot(data=df7, x=\"Age\", y=\"Depression\", kde=True, color='seagreen', ax=axs2[2])\n",
    "axs2[2].set_xlabel('Age of Participants (in Years)')\n",
    "axs2[2].set_ylabel('Depression in Participants (out of 10)')\n",
    "axs2[2].set_title('Correlation of Age and Depression')\n",
    "\n",
    "sns.histplot(data=df8, x=\"Age\", y=\"Insomnia\", kde=True, color='seagreen', ax=axs2[3])\n",
    "axs2[3].set_xlabel('Age of Participants (in Years)')\n",
    "axs2[3].set_ylabel('Insomnia in Participants (out of 10)')\n",
    "axs2[3].set_title('Correlation of Age and Insomnia')\n",
    "\n",
    "sns.histplot(data=df9, x=\"Age\", y=\"OCD\", kde=True, color='seagreen', ax=axs2[4])\n",
    "axs2[4].set_xlabel('Age of Participants (in Years)')\n",
    "axs2[4].set_ylabel('OCD in Participants (out of 10)')\n",
    "axs2[4].set_title('Correlation of Age and OCD')\n",
    "\n",
    "fig.tight_layout()\n",
    "\n",
    "plt.show()"
   ]
  },
  {
   "cell_type": "markdown",
   "id": "10be67ec-3dbd-47cb-afb0-207f499e890d",
   "metadata": {},
   "source": [
    "Interesting, it seems like most of the survey individuals listened to music for about 10% of the day, and the highest density of the plot is at about 25-45 for the y-axis, indicating that most of the survey-takers feel their mental health problems are relatively low, at about 35%. As for a trend, it seems there may be a **minimal effect of \"percentage of day spent listening to music\" on overall mental health problems**, as seen by the relatively equal scattering of points in a straight vertical manner on the graph (the vertical direction representing how different survey-takers ranked their mental health all over across the scale for a given \"% of day spent listening to music\", indicating that listening to music for a certain amount of time does not seem to cause more or less mental health problems). \n",
    "\n",
    "Next, let's make a more complex visualization to compare age and overall mental health. I will use a jointplot again: "
   ]
  },
  {
   "cell_type": "markdown",
   "id": "63ecc9d4-6534-46d9-945d-28df94e74a55",
   "metadata": {},
   "source": [
    "Interesting, it seems like most of the survey individuals were younger folks, and the highest density of the plot is at about 40 and 55, meaning these were the most common \"Overall health\" percentages. \n",
    "More importantly, for trends, it seems there may be a minimal effect of **\"Age of Participants\" on overall mental health problems**, as seen by the relatively equal scattering of points in a straight vertical manner on the graph (representing the relatively equal spread of overall mental health problems percentages for a given age, indicating that being a certain age does not lead to less or more mental health problems). However, as age increases, it can be seen that more points are towards the lower end of the spectrum of \"Overall Mental Healthy Problems\"- which indicates that **as the age of a human increases, their mental health improves**. Further studies need to be done to confirm this conclusion.\n",
    "\n",
    "\n",
    "Next, let's visualize each mental health condition (4) with either \"Age\" or \"% of day spent listening to music\"- there will be 8 jointplots ahead:"
   ]
  },
  {
   "cell_type": "markdown",
   "id": "04a3cdb4-af55-499a-adf6-a1895942d973",
   "metadata": {},
   "source": [
    "With these new graphs, there are still no prominently significant effects of \"% of music listened to in a day\" on each of the four mental health conditions; it appears that the prevalence of the mental health problems are similar regardless of if individuals are listening to more or less music. Therefore, **it may be concluded from these results that amount of music listened to in a day and the various mental health conditions do not have a correlation**.  \n",
    "\n",
    "For age and its correlation to mental health, age seems to have minimal effects on the mental health conditions Anxiety and Insomnia. However, the \"Correlation of Age and OCD\" and especially the \"Correlation of Age and Depression\" graphs both display how with increasing age, the overall ranking of OCD and Depression was lower. **This data allows us to conclude that increasing age may have a negative correlation with age, such that higher age leads to lower depression and OCD**.\n",
    "\n",
    "**Therefore, it can finally be stated that an individual’s age has a stronger correlation with certain mental health conditions- depression and OCD, than does the amount of music they listen to.**"
   ]
  },
  {
   "cell_type": "markdown",
   "id": "22d2aae5-c7a0-47bd-8ba5-963a1bd389ec",
   "metadata": {},
   "source": [
    ">To test my second question, \"**How does quantity of music listening vary across age groups?**\", I will plot a displot, as well as a jointplot:   **Will probably delete this question**"
   ]
  },
  {
   "cell_type": "markdown",
   "id": "24a1c7a4-388a-4a51-957b-042c9c81e9ab",
   "metadata": {},
   "source": [
    "Will probably delete this since I no longer want to keep this question:\n",
    "Based on the previous visualization, I can tackle the second question. The Facet Grid showed how the highest counts of music listening for people of ages 16, 17, especially 18, 19, 20, 21, 22, and 23. People aged 24-32 also listened to music, but less than the 16-23 year olds. People aged 33-38 have even lower counts, and people older than 38 have very low counts of music listeners. This data is generally supported by the jointplot, which shows the higest concentration of music listeners at age ~20, and gradually lower concentrations at higher ages; this is further supported by the bars on the joinplots too. \n",
    "Therefore, **it can be concluded that according to this dataset, younger people tend to listen to music more, and this activity decreases as age increases. More specifically, 16 is the peak age at which people listen to music the most**. It should be noted that there is possible bias in this conclusion, since majority of the survery-takers were younger. Further surveys of older populations can help remove the bias from this conclusion. "
   ]
  },
  {
   "cell_type": "markdown",
   "id": "3f63ed0a-0b55-4515-bc7a-c381d3e4c4c9",
   "metadata": {},
   "source": [
    "## Additional questions\n",
    "\n",
    "Since I have rather simple results, I can do further exploring. I have another question: **How many hours of music do most individuals usually listen to in a day?**  \n",
    "\n",
    "I will create a displot to observe what the most common number of hours of music listened to in a day popular:"
   ]
  },
  {
   "cell_type": "code",
   "execution_count": null,
   "id": "c23c4115-a444-4195-a4b0-f20141534046",
   "metadata": {},
   "outputs": [],
   "source": [
    "# Let's visualize the \"Hours per day in %\" column to see the spread of how much music the participants of this survey listen to per day\n",
    "\n",
    "sns.set_theme(style=\"ticks\")\n",
    "plot2=sns.displot(data=datasetchain2, x=\"Hours_per_day_percentage\", color=\"maroon\", height=4, aspect=1.75)\n",
    "plot2.set(xlabel=\"Percentage of Day Spent Listening to Music (per day)\", ylabel=\"Count of Participants\", title=\"Visualizing How Much Music Participants Listen to per day (as a Percentage)\") \n",
    "plot2.facet_axis(0, 0).set_xlim(0, None)\n",
    "plot2.facet_axis(0, 0).set_ylim(0, None)"
   ]
  },
  {
   "cell_type": "markdown",
   "id": "52b1b524-4ae5-4937-9225-cd9598880a1f",
   "metadata": {},
   "source": [
    "Based on the survery-takers, these number of hours of music were most common: 1.0, 2.0, and 3.0. From these three, 2.0 hours had the highest count. Therefore, this result can be extended to the general public, and it can be concluded that **in general, people typically spend two hours per day listening to music, which is the most common duration**. "
   ]
  },
  {
   "cell_type": "markdown",
   "id": "46d9b268-07a8-446e-a2c5-488583105223",
   "metadata": {},
   "source": [
    "Next additional question: **Of the four mental health conditions, which one is the most prevalent?** \n",
    "\n",
    "For answering this question, I will create a boxplot that includes all four mental health conditions, and displays their numerical stats:"
   ]
  },
  {
   "cell_type": "code",
   "execution_count": null,
   "id": "6b7a659c-0b87-498d-8ade-c2d38ea94681",
   "metadata": {},
   "outputs": [],
   "source": [
    "sns.set_theme(style=\"ticks\", palette=\"deep\", font_scale=1.2)\n",
    "\n",
    "sns.boxplot(data=datasetchain2[['Anxiety', 'Depression', 'Insomnia', 'OCD']], palette='Set3')\n",
    "plt.xlabel(\"\")\n",
    "plt.ylabel(\"Mental Health Condition Ranking by Participants\")\n",
    "plt.title(\"Prevalence of Four Different Mental Health Conditions\")\n",
    "plt.show() "
   ]
  },
  {
   "cell_type": "markdown",
   "id": "20200fa5-5972-4bac-995c-8531b69a8eb7",
   "metadata": {},
   "source": [
    "The main result of the barplot above is that it shows the interquartile range (IQR) of the prevalence of each of the four mental health conditions in the survey-takers. A score of 0 indicates lack of the mental health condition, while a score of 10 indicates high levels of mental health condition. **The barplot shows that Anxiety has the highest IQR, meaning that overall, the survey-takers reported highest levels of this condition. Depression was ranked lower, insomnia even lower, and OCD was ranked the lowest**. This indicates that of these four mental health conditions, **anxiety is the most prevalent in our society, therefore more focus should be paid towards providing resources and therapy for this condition**, compared to the other three. "
   ]
  },
  {
   "cell_type": "markdown",
   "id": "c9c71e35-2c75-45f1-b84c-a33cc7c46e92",
   "metadata": {},
   "source": [
    "My next question is: **Does the choice of primary streaming service of music have a correlation with mental health?**"
   ]
  },
  {
   "cell_type": "code",
   "execution_count": 42,
   "id": "b091a4e3-82c4-4cbe-9495-41e44a28c841",
   "metadata": {},
   "outputs": [
    {
     "name": "stderr",
     "output_type": "stream",
     "text": [
      "C:\\Users\\12508\\AppData\\Local\\Temp\\ipykernel_18196\\4134820003.py:2: FutureWarning: In a future version of pandas all arguments of DataFrame.pivot will be keyword-only.\n",
      "  pivot1 = counts1.pivot('Primary_streaming_service_in_numbers', 'Anxiety', 'count')\n",
      "C:\\Users\\12508\\AppData\\Local\\Temp\\ipykernel_18196\\4134820003.py:5: FutureWarning: In a future version of pandas all arguments of DataFrame.pivot will be keyword-only.\n",
      "  pivot2 = counts2.pivot('Primary_streaming_service_in_numbers', 'Depression', 'count')\n",
      "C:\\Users\\12508\\AppData\\Local\\Temp\\ipykernel_18196\\4134820003.py:8: FutureWarning: In a future version of pandas all arguments of DataFrame.pivot will be keyword-only.\n",
      "  pivot3 = counts3.pivot('Primary_streaming_service_in_numbers', 'Insomnia', 'count')\n",
      "C:\\Users\\12508\\AppData\\Local\\Temp\\ipykernel_18196\\4134820003.py:11: FutureWarning: In a future version of pandas all arguments of DataFrame.pivot will be keyword-only.\n",
      "  pivot4 = counts4.pivot('Primary_streaming_service_in_numbers', 'OCD', 'count')\n"
     ]
    },
    {
     "data": {
      "image/png": "[encoded data removed]",
      "text/plain": [
       "<Figure size 1800x800 with 8 Axes>"
      ]
     },
     "metadata": {},
     "output_type": "display_data"
    }
   ],
   "source": [
    "counts1 = datasetchain2.groupby(['Primary_streaming_service_in_numbers', 'Anxiety']).size().reset_index(name='count')\n",
    "pivot1 = counts1.pivot('Primary_streaming_service_in_numbers', 'Anxiety', 'count')\n",
    "\n",
    "counts2 = datasetchain2.groupby(['Primary_streaming_service_in_numbers', 'Depression']).size().reset_index(name='count')\n",
    "pivot2 = counts2.pivot('Primary_streaming_service_in_numbers', 'Depression', 'count')\n",
    "\n",
    "counts3 = datasetchain2.groupby(['Primary_streaming_service_in_numbers', 'Insomnia']).size().reset_index(name='count')\n",
    "pivot3 = counts3.pivot('Primary_streaming_service_in_numbers', 'Insomnia', 'count')\n",
    "\n",
    "counts4 = datasetchain2.groupby(['Primary_streaming_service_in_numbers', 'OCD']).size().reset_index(name='count')\n",
    "pivot4 = counts4.pivot('Primary_streaming_service_in_numbers', 'OCD', 'count')\n",
    "\n",
    "fig, axs = plt.subplots(nrows=2, ncols=2, figsize=(18, 8))\n",
    "\n",
    "# creating a list that contains the names of the new y-axis tick mark labels\n",
    "new_y_tick_labels = ['Spotify', 'Pandora', 'YouTube Music', 'Apple Music', 'Do not use any', 'Other']\n",
    "\n",
    "heatmap1 = sns.heatmap(pivot1, annot=True, cmap='YlGnBu', ax=axs[0,0], annot_kws={\"fontsize\":8})\n",
    "heatmap1.set_xticklabels(heatmap1.get_xticklabels(), rotation=0)\n",
    "heatmap1.set_yticklabels(new_y_tick_labels, rotation=0, fontsize=10)  # setting the y-axis tick mark labels and increase font size\n",
    "axs[0,0].set_xlabel('Anxiety in Participants (out of 10)', fontsize=13)  # increasing x label font size\n",
    "axs[0,0].set_ylabel('Primary Streaming Service', fontsize=12)  # increase y labelling font size\n",
    "axs[0,0].set_title('Correlation of Primary Streaming Service and Anxiety', fontsize=14)  # increasing title font size\n",
    "\n",
    "heatmap2 = sns.heatmap(pivot2, annot=True, cmap='YlGnBu', ax=axs[0,1], annot_kws={\"fontsize\":8})\n",
    "heatmap2.set_xticklabels(heatmap2.get_xticklabels(), rotation=0)\n",
    "heatmap2.set_yticklabels(new_y_tick_labels, rotation=0, fontsize=10) \n",
    "axs[0,1].set_xlabel('Depression in Participants (out of 10)', fontsize=13)\n",
    "axs[0,1].set_ylabel('Primary Streaming Service', fontsize=12)  \n",
    "axs[0,1].set_title('Correlation of Primary Streaming Service and Depression', fontsize=14)  \n",
    "\n",
    "heatmap3 = sns.heatmap(pivot3, annot=True, cmap='YlGnBu', ax=axs[1,0], annot_kws={\"fontsize\":8})\n",
    "heatmap3.set_xticklabels(heatmap3.get_xticklabels(), rotation=0)\n",
    "heatmap3.set_yticklabels(new_y_tick_labels, rotation=0, fontsize=10)  \n",
    "axs[1,0].set_xlabel('Insomnia in Participants (out of 10)', fontsize=13) \n",
    "axs[1,0].set_ylabel('Primary Streaming Service', fontsize=12)\n",
    "axs[1,0].set_title('Correlation of Primary Streaming Service and Insomnia', fontsize=14)\n",
    "\n",
    "heatmap4 = sns.heatmap(pivot4, annot=True, cmap='YlGnBu', ax=axs[1,1], annot_kws={\"fontsize\":8})\n",
    "heatmap4.set_xticklabels(heatmap4.get_xticklabels(), rotation=0)\n",
    "heatmap4.set_yticklabels(new_y_tick_labels, rotation=0, fontsize=10)   \n",
    "axs[1,1].set_xlabel('OCD in Participants (out of 10)', fontsize=13)\n",
    "axs[1,1].set_ylabel('Primary Streaming Service', fontsize=12)\n",
    "axs[1,1].set_title('Correlation of Primary Streaming Service and OCD', fontsize=14)\n",
    "\n",
    "fig.tight_layout()\n",
    "\n",
    "#exporting the plot to images folder:\n",
    "plt.savefig('../images/analysis3graph2.png', bbox_inches=\"tight\")\n",
    "\n",
    "#showing the plot:\n",
    "plt.show()\n"
   ]
  },
  {
   "cell_type": "code",
   "execution_count": 65,
   "id": "35f6803c-8269-416e-82f7-ab12d21f25b2",
   "metadata": {},
   "outputs": [
    {
     "data": {
      "image/png": "[encoded data removed]",
      "text/plain": [
       "<Figure size 1000x600 with 1 Axes>"
      ]
     },
     "metadata": {},
     "output_type": "display_data"
    }
   ],
   "source": [
    "# grouping the data by primary streaming service and calculating the mean depression rating for each group\n",
    "\n",
    "avg_depression = datasetchain2.groupby('Primary streaming service')['Depression'].mean().reset_index()\n",
    "avg_depression = avg_depression.sort_values(by='Depression', ascending=False)\n",
    "avg_depression['Primary streaming service'] = avg_depression['Primary streaming service'].replace({'Spotify': 'Spotify', \n",
    "                                                                                                     'Apple Music': 'Apple Music',\n",
    "                                                                                                     'YouTube Music': 'YouTube Music',\n",
    "                                                                                                     'Pandora': 'Pandora',\n",
    "                                                                                                     'I do not use a streaming service.': 'Do not use any',\n",
    "                                                                                                     'Other streaming service': 'Other'})\n",
    "sns.set_style(\"whitegrid\")\n",
    "fig, ax = plt.subplots(figsize=(10,6))\n",
    "sns.barplot(x=\"Depression\", y=\"Primary streaming service\", data=avg_depression, palette=\"Blues_d\")\n",
    "\n",
    "ax.set_xlabel('Average Depression Score (out of 10)', fontsize=15)\n",
    "ax.set_ylabel('Primary Streaming Service', fontsize=15)\n",
    "ax.set_title('Average Depression Score by Primary Streaming Service', fontsize=17)\n",
    "ax.tick_params(labelsize=12)\n",
    "ax.set_xlim([0, 10])\n",
    "plt.xticks(range(0, 11, 1))\n",
    "\n",
    "#exporting the plot to images folder:\n",
    "plt.savefig('../images/analysis3graph3.png', bbox_inches=\"tight\")\n",
    "\n",
    "#showing the plot:\n",
    "plt.show() "
   ]
  },
  {
   "cell_type": "markdown",
   "id": "886f288a-8d1e-45f5-b4dd-9f113c7d762c",
   "metadata": {},
   "source": [
    "(explain the y axis)\n",
    "\n",
    "The heatmaps above represent the spread of how users of different primary streaming services rated their anxiety, depression, insomnia, and OCD. \n",
    "(describe results/mode values)"
   ]
  },
  {
   "cell_type": "markdown",
   "id": "223a57ad-0026-4382-8afb-1c3ddda29370",
   "metadata": {},
   "source": [
    "# Dataset 2"
   ]
  },
  {
   "cell_type": "code",
   "execution_count": null,
   "id": "786932a3-ae9f-4809-9e54-00d7d9e5d3aa",
   "metadata": {},
   "outputs": [],
   "source": [
    "# I have added a new short dataset because I am curious to see how mental health varies in students\n",
    "\n",
    "datasetsmh = pd.read_csv('../data/raw/Student_mental_health.csv')"
   ]
  },
  {
   "cell_type": "code",
   "execution_count": null,
   "id": "0d005dfb-7480-480c-95ba-f8111b21c2cd",
   "metadata": {},
   "outputs": [],
   "source": [
    "# Let's see all the columns in this new dataset\n",
    "datasetsmh.columns.values"
   ]
  },
  {
   "cell_type": "code",
   "execution_count": null,
   "id": "a1df3209-db1e-48e5-8718-0539fb2d6590",
   "metadata": {},
   "outputs": [],
   "source": [
    "# From the list, I am interested in the \"Do you have Depression?\", \"Do you have Anxiety?\", \"Your current year of Study\", and \"What is your cGPA?\" columns so I will drop all the rest\n",
    "\n",
    "dataset_smh = datasetsmh.drop(columns=['Timestamp', 'Choose your gender', 'Age', 'What is your course?', 'Marital status', 'Do you have Panic attack?', 'Did you seek any specialist for a treatment?'])"
   ]
  },
  {
   "cell_type": "code",
   "execution_count": null,
   "id": "b4d82b3d-fa0f-41c6-846e-3a33aa2c4eb4",
   "metadata": {},
   "outputs": [],
   "source": [
    "# Checking the data types of each of the four columns\n",
    "\n",
    "print(dataset_smh.dtypes)"
   ]
  },
  {
   "cell_type": "code",
   "execution_count": null,
   "id": "501369f3-ef45-4fe6-aea8-4aaababf092c",
   "metadata": {},
   "outputs": [],
   "source": [
    "# They are all objects, so I will use functions to convert them all to numerical values if needed during my visualizations. First let's check what all the unique values in each column are\n",
    "\n",
    "dataset_smh['Your current year of Study'].unique()"
   ]
  },
  {
   "cell_type": "code",
   "execution_count": null,
   "id": "200de4af-79e1-443e-945c-8d8b1d32ffa6",
   "metadata": {},
   "outputs": [],
   "source": [
    "# I don't want to differentiate between lower and upper case, so let's fix that issue by converting all values to lower case:\n",
    "\n",
    "dataset_smh['Your current year of Study'] = dataset_smh['Your current year of Study'].str.lower()\n",
    "dataset_smh['Your current year of Study'].unique()"
   ]
  },
  {
   "cell_type": "code",
   "execution_count": null,
   "id": "90ea8178-ad8c-4ff2-83ba-70197099c501",
   "metadata": {},
   "outputs": [],
   "source": [
    "# Perfect. Now let's check the unique values of the next column \n",
    "dataset_smh['What is your CGPA?'].unique()  "
   ]
  },
  {
   "cell_type": "code",
   "execution_count": null,
   "id": "79990f61-3c28-4375-abf8-9f723428f807",
   "metadata": {},
   "outputs": [],
   "source": [
    "# The '3.50 - 4.00' value appears twice since someone entered a space after, so let's fix this by using strip, which will ignore whitespace:\n",
    "\n",
    "dataset_smh['What is your CGPA?'] = dataset_smh['What is your CGPA?'].str.strip()\n",
    "dataset_smh['What is your CGPA?'].unique()  "
   ]
  },
  {
   "cell_type": "code",
   "execution_count": null,
   "id": "b7894982-373c-49ba-8b2b-d7d94cc5f96f",
   "metadata": {},
   "outputs": [],
   "source": [
    "# Now checking unique values of the depression and anxiety columns:\n",
    "dataset_smh['Do you have Depression?'].unique()  "
   ]
  },
  {
   "cell_type": "code",
   "execution_count": null,
   "id": "33540cf5-5928-4a9e-8ff9-02cdbee247f9",
   "metadata": {},
   "outputs": [],
   "source": [
    "dataset_smh['Do you have Anxiety?'].unique()  "
   ]
  },
  {
   "cell_type": "code",
   "execution_count": null,
   "id": "dd6abbc2-e104-4cba-9579-475cb03b3d2b",
   "metadata": {},
   "outputs": [],
   "source": [
    "# Time for the functions, first I'll make them for the depression and anxiety columns, where Yes = 1 and No = 0. I'll only use these if I need them during visualizations/analysis:\n",
    "\n",
    "def depression(x):\n",
    "    '''\n",
    "    This function analyzes the \"Do you have Depression?\" column, and assigns the categorical values numerical values accordingly (numbers are easier to work with). Yes = 1 and No = 0.\n",
    "    '''\n",
    "    if x['Do you have Depression?']==\"Yes\":\n",
    "        return \"1\"\n",
    "    else: \n",
    "        return \"0\"  "
   ]
  },
  {
   "cell_type": "code",
   "execution_count": null,
   "id": "5760ca1d-6c81-4486-a639-5f87918bb5b4",
   "metadata": {},
   "outputs": [],
   "source": [
    "# dataset_smh['Do you have Depression?']= dataset_smh.apply(depression, axis='columns')\n",
    "#dataset_smh"
   ]
  },
  {
   "cell_type": "code",
   "execution_count": null,
   "id": "c369d2d1-4ee7-4683-b5d9-6227a75848a4",
   "metadata": {},
   "outputs": [],
   "source": [
    "# Making the function for anxiety column, where Yes = 1 and No = 0:\n",
    "\n",
    "def anxiety(x):\n",
    "    '''\n",
    "    This function analyzes the \"Do you have Anxiety?\" column, and assigns the categorical values numerical values accordingly (numbers are easier to work with). Yes = 1 and No = 0.\n",
    "    '''\n",
    "    if x['Do you have Anxiety?']==\"Yes\":\n",
    "        return \"1\"\n",
    "    else: \n",
    "        return \"0\"  "
   ]
  },
  {
   "cell_type": "code",
   "execution_count": null,
   "id": "fcadc39a-5683-41a1-9de2-302eefd51b63",
   "metadata": {},
   "outputs": [],
   "source": [
    "# dataset_smh['Do you have Anxiety?']= dataset_smh.apply(anxiety, axis='columns')\n",
    "# dataset_smh"
   ]
  },
  {
   "cell_type": "code",
   "execution_count": null,
   "id": "2c4d94e7-dfd9-4fb9-a852-af48e9ce16bb",
   "metadata": {},
   "outputs": [],
   "source": [
    "# Stacking the anxiety and depression columns into a single column\n",
    "\n",
    "melted_dataset_smh = pd.melt(dataset_smh, id_vars=['What is your CGPA?', 'Your current year of Study'], value_vars=['Do you have Anxiety?', 'Do you have Depression?'], var_name='Question', value_name='Mental Health Problem:')"
   ]
  },
  {
   "cell_type": "code",
   "execution_count": null,
   "id": "159d0a75-5ffd-466d-b130-07875ae27614",
   "metadata": {},
   "outputs": [],
   "source": [
    "melted_dataset_smh.to_csv('../data/processed/analysisZainabdataset2.csv', index=False)"
   ]
  },
  {
   "cell_type": "code",
   "execution_count": null,
   "id": "fcf7b2e0-d4f6-4298-910a-a2a558427a00",
   "metadata": {},
   "outputs": [],
   "source": [
    "# Creating a figure with two subplots\n",
    "\n",
    "figure, academics = plt.subplots(ncols=2, figsize=(14, 4))\n",
    "\n",
    "sns.set_theme(style=\"ticks\")\n",
    "sns.countplot(data=melted_dataset_smh, x=\"What is your CGPA?\", hue=\"Mental Health Problem:\", palette='magma', hue_order=['Yes', 'No'], order=['3.50 - 4.00', '3.00 - 3.49', '2.50 - 2.99', '2.00 - 2.49', '0 - 1.99'], ax=academics[0])\n",
    "academics[0].set_xlabel('CGPA at University')\n",
    "academics[0].set_ylabel('Count')\n",
    "academics[0].set_title('Mental Health vs. CGPA')\n",
    "\n",
    "sns.countplot(data=melted_dataset_smh, x=\"Your current year of Study\", hue=\"Mental Health Problem:\", palette='viridis', hue_order=['Yes', 'No'], ax=academics[1])\n",
    "academics[1].set_xlabel('Year Level at University')\n",
    "academics[1].set_ylabel('Count')\n",
    "academics[1].set_title('Mental Health vs. Year Level')\n",
    "\n",
    "#exporting the plot to images folder:\n",
    "plt.savefig('../images/analysis3graph4.png', bbox_inches=\"tight\")\n",
    "\n",
    "#showing the plot:\n",
    "plt.show()"
   ]
  },
  {
   "cell_type": "markdown",
   "id": "e203d4ac-8df8-4244-9b7d-118b916fdac9",
   "metadata": {},
   "source": [
    "This previous countplot shows the ratio of people saying they do or do not have depression with varying CGPA ranges. It can be seen that the students with the highest CGPA have the lowest ratio of having depression vs. not having depression- almost twice as many students said they don't have depression as those who said they do have depression. The students with the second highest range of CGPA, 3.00-3.49, have a much higher ratio; the number of students saying they have depression is almost equal to those saying they don't. For the third range of CGPA of 2.50-2.99, the ratio is even higher; more students said they have depression than those who said they do not. For the last two, lowest CGPA ranges, the only responses were \"No\" to depression.  "
   ]
  },
  {
   "cell_type": "markdown",
   "id": "a8754bb0-a2fc-48dc-9539-ffc38fab7ae4",
   "metadata": {},
   "source": [
    "**Answering the question: What correlation do the factors of \"Year level\" and \"CGPA\" have with depression and anxiety?**\n",
    "\n",
    "This \"Depression vs. CGPA\" countplot showed that **as CGPA decreased, a higher ratio of students tended to state that they had depression**. This shows a strong correlation between a student's grades and their levels of depression. It should be noted that the students from the two lowest CPGA ranges stated they did not have depression; this might either be incorrect due to the sample size, or perhaps students with CGPAs this low simply do not care about academics, hence why a low CGPA does not affect them or their mental health. \n",
    "\n",
    "For the \"Anxiety vs. CGPA\" countplot, it can be seen that the ratio of students having anxiety vs. not having it stayed relatively similar throughout the different CGPA ranges, suggesting that **a lower CGPA does not necessarily increase or decrease student anxiety levels**.\n",
    "\n",
    "The \"Depression vs. Year Level\" countplot represents the ratio of having depression vs. not having it to be the lowest in Years 1 and 4, a bit higher in Year 2, and the highest in Year 3, **meaning that students are most depressed in Year 3**. It is logical that first year students have the least depression since they are still learning about their university, meeting new people, and experiencing new things, which is fun and induces happiness. By second year, the stress of their rigorous academics begins to kick in, and by third year it worsens as courses get more difficult, which brings feelings of hopelessness and depression. Interestingly, the ratio decreased in Year 4 students- perhaps, it is because by this point they have accepted the academic lifestyle so they are not as depressed, and perhaps there is new-found happiness due to being close to graduating.\n",
    "\n",
    "The \"Anxiety vs. Year Level\" countplot represents the ratio of having anxiety vs. not having it to be the lowest in Year 4, a bit higher in Years 1 and 3, and the highest in Year 2, meaning that **students are most anxious in Year 2**. It makes sense that Year 4 students have the least anxiety, since they are close to graduating. It is also logical that Year 1 students have more anxiety, considereing they are still adjusting to the new lifestyle, which often induces feelings of anxiety in people. Year 2 students having the highest ratio of anxiety also makes a lot of sense, because this is when the academic aspect of university begins to get more serious, which can be tough on students. \n",
    "\n",
    "Looking at the third and fourth countplots together, the trend makes sense: in second year students become most anxious as they first become exposed to the increasing academic difficulty, and by third year the highest levels of depression set in, since by that point  the students have been exposed to their difficult workload for long enough."
   ]
  },
  {
   "cell_type": "code",
   "execution_count": null,
   "id": "d5595d5c-a762-468a-a4b8-bfd384762f9a",
   "metadata": {},
   "outputs": [],
   "source": []
  },
  {
   "cell_type": "code",
   "execution_count": null,
   "id": "42b54d1d-b9f6-4f4c-a869-a4ed6b14bce1",
   "metadata": {},
   "outputs": [],
   "source": []
  },
  {
   "cell_type": "code",
   "execution_count": null,
   "id": "6ac48920-f4d3-454a-84aa-da31f3ae94a7",
   "metadata": {},
   "outputs": [],
   "source": []
  }
 ],
 "metadata": {
  "kernelspec": {
   "display_name": "Python 3 (ipykernel)",
   "language": "python",
   "name": "python3"
  },
  "language_info": {
   "codemirror_mode": {
    "name": "ipython",
    "version": 3
   },
   "file_extension": ".py",
   "mimetype": "text/x-python",
   "name": "python",
   "nbconvert_exporter": "python",
   "pygments_lexer": "ipython3",
   "version": "3.10.8"
  }
 },
 "nbformat": 4,
 "nbformat_minor": 5
}
