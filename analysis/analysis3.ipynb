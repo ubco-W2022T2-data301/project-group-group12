{
 "cells": [
  {
   "attachments": {},
   "cell_type": "markdown",
   "metadata": {},
   "source": [
    "# Zainab Mohammad"
   ]
  },
  {
   "attachments": {},
   "cell_type": "markdown",
   "metadata": {},
   "source": [
    "## Research question/interests\n",
    "\n",
    "**Do either an individual’s age or the amount of music they listen to have an effect on their mental health; which one has a stronger correlation with mental health?** \n",
    "\n",
    "I have a profound interest in how various lifestyle factors can influence an individual's health and general well-being. Thus, for this project, my group decided that observing a common lifestyle factor like music and attempting to learn how it may affect an individual's mental health would be a worthwhile idea. Particularly, I have chosen to concentrate on discovering if there is a correlation between an individual's age, the number of hours they spend listening to music every day, and their mental health.\n",
    "\n",
    "**Analysis Plan:** \n",
    "\n",
    "I plan on using the \"Age\" and \"Hours per day\" columns, as well as the four mental health columns, \"Anxiety\", \"Depression\", \"Insomnia\", and \"OCD\". Hence, I will create a new, processed table that only includes six columns, with the data corresponding to these six variables.\n",
    "\n",
    "Next, I plan to create an \"Hours per day in %\" column, by expressing the values in the \"Hours per day\" column as a percentage, using this calculation: (value/24) * 100.\n",
    "\n",
    "While I will be examining the effects of age and hours of music on each of the four mental health conditions, I will likely also produce visualizations depicting the effects on *overall mental health*. To examine mental health as a whole, I will add the values from the four mental health columns to create an additional \"Overall Mental Health\" column, which includes the sum of the four columns' values, out of 40. For simplicity, I'll likely further convert this new column such that it is out of 100- this will be done by mulitplying the values in the \"Overall Mental Health\" column by 2.5. \n",
    "\n",
    "Since I hope to examine the effects of amount of music listened to per day on mental health, and compare that to the effects of age on mental health, I will likley create ten reshaped datasets. The columns of each dataset will be as such:\n",
    "- \"Hours per day in %\", \"Anxiety\"\n",
    "- \"Hours per day in %\", \"Depression\"\n",
    "- \"Hours per day in %\", \"Insomnia\"\n",
    "- \"Hours per day in %\", \"OCD\"\n",
    "- \"Hours per day in %\", \"Overall Mental Health\"\n",
    "<br>\n",
    "<br>\n",
    "- \"Age\", \"Anxiety\"\n",
    "- \"Age\", \"Depression\"\n",
    "- \"Age\", \"Insomnia\"\n",
    "- \"Age\", \"OCD\"\n",
    "- \"Age\", \"Overall Mental Health\"\n",
    "\n",
    "\n",
    "These datasets will be used to produce respective visualizations. The details are yet to be finalized; creating some visualizations first shall allow me to further narrow down my next steps. "
   ]
  },
  {
   "cell_type": "code",
   "execution_count": null,
   "metadata": {},
   "outputs": [],
   "source": [
    "import pandas as pd\n",
    "dataset = pd.read_csv('../data/raw/music_therapy_and_mental_health_survey_results (1).csv')\n",
    "dataset"
   ]
  }
 ],
 "metadata": {},
 "nbformat": 4,
 "nbformat_minor": 2
}
